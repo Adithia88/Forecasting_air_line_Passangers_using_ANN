{
  "nbformat": 4,
  "nbformat_minor": 0,
  "metadata": {
    "colab": {
      "name": "Forecasting air_line_passangers_using_ANN.ipynb",
      "provenance": []
    },
    "kernelspec": {
      "name": "python3",
      "display_name": "Python 3"
    },
    "language_info": {
      "name": "python"
    }
  },
  "cells": [
    {
      "cell_type": "code",
      "execution_count": 1,
      "metadata": {
        "id": "_mx7juSYdIN4"
      },
      "outputs": [],
      "source": [
        "import numpy as np\n",
        "import matplotlib.pyplot as plt\n",
        "from pandas import read_csv\n",
        "import math\n",
        "\n",
        "from keras.models import Sequential\n",
        "from keras.layers import Dense\n",
        "from sklearn.preprocessing import MinMaxScaler\n",
        "from sklearn.metrics import mean_squared_error\n"
      ]
    },
    {
      "cell_type": "code",
      "source": [
        "# load the dataset\n",
        "dataframe = read_csv('/content/international-airline-passengers.csv', usecols=[1])\n",
        "plt.plot(dataframe)"
      ],
      "metadata": {
        "colab": {
          "base_uri": "https://localhost:8080/",
          "height": 282
        },
        "id": "7zHeZnv5dMD0",
        "outputId": "28cbb9b8-4d04-4148-e240-38f64c6b72ec"
      },
      "execution_count": 3,
      "outputs": [
        {
          "output_type": "execute_result",
          "data": {
            "text/plain": [
              "[<matplotlib.lines.Line2D at 0x7f2a25336850>]"
            ]
          },
          "metadata": {},
          "execution_count": 3
        },
        {
          "output_type": "display_data",
          "data": {
            "text/plain": [
              "<Figure size 432x288 with 1 Axes>"
            ],
            "image/png": "[encoded data removed]"
          },
          "metadata": {
            "needs_background": "light"
          }
        }
      ]
    },
    {
      "cell_type": "code",
      "source": [
        "#Convert pandas dataframe to numpy array\n",
        "dataset = dataframe.values\n",
        "dataset = dataset.astype('float32') #COnvert values to float"
      ],
      "metadata": {
        "id": "-XUeWB3wdoJU"
      },
      "execution_count": 4,
      "outputs": []
    },
    {
      "cell_type": "code",
      "source": [
        "# Normalization is optional but recommended for neural network as certain \n",
        "# activation functions are sensitive to magnitude of numbers. \n",
        "# normalize the dataset\n",
        "scaler = MinMaxScaler(feature_range=(0, 1)) #Also try QuantileTransformer\n",
        "dataset = scaler.fit_transform(dataset)\n"
      ],
      "metadata": {
        "id": "tX-FXr2rdo1o"
      },
      "execution_count": 5,
      "outputs": []
    },
    {
      "cell_type": "code",
      "source": [
        "train_size = int(len(dataset) * 0.7)\n",
        "test_size = len(dataset) - train_size\n",
        "train, test = dataset[0:train_size,:], dataset[train_size:len(dataset),:]"
      ],
      "metadata": {
        "id": "pAuBY8EodrfQ"
      },
      "execution_count": 6,
      "outputs": []
    },
    {
      "cell_type": "code",
      "source": [
        "#creates a dataset where X is the number of passengers at a given time (t, t-1, t-2...) \n",
        "#and Y is the number of passengers at the next time (t + 1).\n",
        "\n",
        "def to_sequences(dataset, seq_size=1):\n",
        "    x = []\n",
        "    y = []\n",
        "\n",
        "    for i in range(len(dataset)-seq_size-1):\n",
        "        #print(i)\n",
        "        window = dataset[i:(i+seq_size), 0]\n",
        "        x.append(window)\n",
        "        y.append(dataset[i+seq_size, 0])\n",
        "        \n",
        "    return np.array(x),np.array(y)\n",
        "    \n",
        "\n",
        "seq_size = 10 # Number of time steps to look back \n",
        "#Larger sequences (look further back) may improve forecasting.\n",
        "trainX, trainY = to_sequences(train, seq_size)\n",
        "testX, testY = to_sequences(test, seq_size)\n",
        "\n",
        "#Compare trainX and dataset. You can see that X= values at t, t+1 and t+2\n",
        "#whereas Y is the value that follows, t+3 (since our sequence size is 3)\n",
        "\n",
        "print(\"Shape of training set: {}\".format(trainX.shape))\n",
        "print(\"Shape of test set: {}\".format(testX.shape))\n",
        "\n",
        "#Input dimensions are... (N x seq_size)\n",
        "print('Build deep model...')"
      ],
      "metadata": {
        "colab": {
          "base_uri": "https://localhost:8080/"
        },
        "id": "UIMdEMuGdw63",
        "outputId": "5405a5b1-bb60-474c-81d9-1a846a1aaa50"
      },
      "execution_count": 8,
      "outputs": [
        {
          "output_type": "stream",
          "name": "stdout",
          "text": [
            "Shape of training set: (89, 10)\n",
            "Shape of test set: (33, 10)\n",
            "Build deep model...\n"
          ]
        }
      ]
    },
    {
      "cell_type": "code",
      "source": [
        "# create and fit dense model\n",
        "model = Sequential()\n",
        "model.add(Dense(64, input_dim=seq_size, activation='relu')) #12\n",
        "model.add(Dense(32, activation='relu'))  #8\n",
        "model.add(Dense(1))\n",
        "model.compile(loss='mean_squared_error', optimizer='adam', metrics = ['acc'])\n",
        "print(model.summary()) \n"
      ],
      "metadata": {
        "colab": {
          "base_uri": "https://localhost:8080/"
        },
        "id": "1gNm1R5yd0ne",
        "outputId": "35e90d95-807e-48a5-c013-e7117b5d52d2"
      },
      "execution_count": 9,
      "outputs": [
        {
          "output_type": "stream",
          "name": "stdout",
          "text": [
            "Model: \"sequential\"\n",
            "_________________________________________________________________\n",
            " Layer (type)                Output Shape              Param #   \n",
            "=================================================================\n",
            " dense (Dense)               (None, 64)                704       \n",
            "                                                                 \n",
            " dense_1 (Dense)             (None, 32)                2080      \n",
            "                                                                 \n",
            " dense_2 (Dense)             (None, 1)                 33        \n",
            "                                                                 \n",
            "=================================================================\n",
            "Total params: 2,817\n",
            "Trainable params: 2,817\n",
            "Non-trainable params: 0\n",
            "_________________________________________________________________\n",
            "None\n"
          ]
        }
      ]
    },
    {
      "cell_type": "code",
      "source": [
        "model.fit(trainX, trainY, validation_data=(testX, testY),\n",
        "          verbose=2, epochs=100)"
      ],
      "metadata": {
        "colab": {
          "base_uri": "https://localhost:8080/"
        },
        "id": "OAV8WFnBd-Gc",
        "outputId": "90e157b1-7b1b-42f1-8265-dd418a02d108"
      },
      "execution_count": 10,
      "outputs": [
        {
          "output_type": "stream",
          "name": "stdout",
          "text": [
            "Epoch 1/100\n",
            "3/3 - 1s - loss: 0.0886 - acc: 0.0112 - val_loss: 0.3637 - val_acc: 0.0000e+00 - 1s/epoch - 348ms/step\n",
            "Epoch 2/100\n",
            "3/3 - 0s - loss: 0.0466 - acc: 0.0112 - val_loss: 0.1759 - val_acc: 0.0000e+00 - 32ms/epoch - 11ms/step\n",
            "Epoch 3/100\n",
            "3/3 - 0s - loss: 0.0176 - acc: 0.0112 - val_loss: 0.0652 - val_acc: 0.0000e+00 - 25ms/epoch - 8ms/step\n",
            "Epoch 4/100\n",
            "3/3 - 0s - loss: 0.0074 - acc: 0.0112 - val_loss: 0.0273 - val_acc: 0.0303 - 23ms/epoch - 8ms/step\n",
            "Epoch 5/100\n",
            "3/3 - 0s - loss: 0.0085 - acc: 0.0112 - val_loss: 0.0286 - val_acc: 0.0303 - 25ms/epoch - 8ms/step\n",
            "Epoch 6/100\n",
            "3/3 - 0s - loss: 0.0123 - acc: 0.0112 - val_loss: 0.0302 - val_acc: 0.0303 - 24ms/epoch - 8ms/step\n",
            "Epoch 7/100\n",
            "3/3 - 0s - loss: 0.0116 - acc: 0.0112 - val_loss: 0.0258 - val_acc: 0.0303 - 25ms/epoch - 8ms/step\n",
            "Epoch 8/100\n",
            "3/3 - 0s - loss: 0.0084 - acc: 0.0112 - val_loss: 0.0239 - val_acc: 0.0303 - 25ms/epoch - 8ms/step\n",
            "Epoch 9/100\n",
            "3/3 - 0s - loss: 0.0057 - acc: 0.0112 - val_loss: 0.0280 - val_acc: 0.0303 - 27ms/epoch - 9ms/step\n",
            "Epoch 10/100\n",
            "3/3 - 0s - loss: 0.0051 - acc: 0.0112 - val_loss: 0.0357 - val_acc: 0.0303 - 26ms/epoch - 9ms/step\n",
            "Epoch 11/100\n",
            "3/3 - 0s - loss: 0.0052 - acc: 0.0112 - val_loss: 0.0408 - val_acc: 0.0303 - 26ms/epoch - 9ms/step\n",
            "Epoch 12/100\n",
            "3/3 - 0s - loss: 0.0056 - acc: 0.0112 - val_loss: 0.0410 - val_acc: 0.0303 - 27ms/epoch - 9ms/step\n",
            "Epoch 13/100\n",
            "3/3 - 0s - loss: 0.0053 - acc: 0.0112 - val_loss: 0.0348 - val_acc: 0.0303 - 25ms/epoch - 8ms/step\n",
            "Epoch 14/100\n",
            "3/3 - 0s - loss: 0.0046 - acc: 0.0112 - val_loss: 0.0272 - val_acc: 0.0303 - 29ms/epoch - 10ms/step\n",
            "Epoch 15/100\n",
            "3/3 - 0s - loss: 0.0040 - acc: 0.0112 - val_loss: 0.0213 - val_acc: 0.0303 - 26ms/epoch - 9ms/step\n",
            "Epoch 16/100\n",
            "3/3 - 0s - loss: 0.0036 - acc: 0.0112 - val_loss: 0.0185 - val_acc: 0.0303 - 28ms/epoch - 9ms/step\n",
            "Epoch 17/100\n",
            "3/3 - 0s - loss: 0.0037 - acc: 0.0112 - val_loss: 0.0165 - val_acc: 0.0303 - 27ms/epoch - 9ms/step\n",
            "Epoch 18/100\n",
            "3/3 - 0s - loss: 0.0036 - acc: 0.0112 - val_loss: 0.0161 - val_acc: 0.0303 - 24ms/epoch - 8ms/step\n",
            "Epoch 19/100\n",
            "3/3 - 0s - loss: 0.0034 - acc: 0.0112 - val_loss: 0.0166 - val_acc: 0.0303 - 25ms/epoch - 8ms/step\n",
            "Epoch 20/100\n",
            "3/3 - 0s - loss: 0.0032 - acc: 0.0112 - val_loss: 0.0173 - val_acc: 0.0303 - 25ms/epoch - 8ms/step\n",
            "Epoch 21/100\n",
            "3/3 - 0s - loss: 0.0031 - acc: 0.0112 - val_loss: 0.0169 - val_acc: 0.0303 - 25ms/epoch - 8ms/step\n",
            "Epoch 22/100\n",
            "3/3 - 0s - loss: 0.0031 - acc: 0.0112 - val_loss: 0.0157 - val_acc: 0.0303 - 26ms/epoch - 9ms/step\n",
            "Epoch 23/100\n",
            "3/3 - 0s - loss: 0.0030 - acc: 0.0112 - val_loss: 0.0145 - val_acc: 0.0303 - 23ms/epoch - 8ms/step\n",
            "Epoch 24/100\n",
            "3/3 - 0s - loss: 0.0029 - acc: 0.0112 - val_loss: 0.0136 - val_acc: 0.0303 - 23ms/epoch - 8ms/step\n",
            "Epoch 25/100\n",
            "3/3 - 0s - loss: 0.0028 - acc: 0.0112 - val_loss: 0.0130 - val_acc: 0.0303 - 39ms/epoch - 13ms/step\n",
            "Epoch 26/100\n",
            "3/3 - 0s - loss: 0.0027 - acc: 0.0112 - val_loss: 0.0128 - val_acc: 0.0303 - 26ms/epoch - 9ms/step\n",
            "Epoch 27/100\n",
            "3/3 - 0s - loss: 0.0026 - acc: 0.0112 - val_loss: 0.0126 - val_acc: 0.0303 - 27ms/epoch - 9ms/step\n",
            "Epoch 28/100\n",
            "3/3 - 0s - loss: 0.0026 - acc: 0.0112 - val_loss: 0.0124 - val_acc: 0.0303 - 26ms/epoch - 9ms/step\n",
            "Epoch 29/100\n",
            "3/3 - 0s - loss: 0.0025 - acc: 0.0112 - val_loss: 0.0118 - val_acc: 0.0303 - 24ms/epoch - 8ms/step\n",
            "Epoch 30/100\n",
            "3/3 - 0s - loss: 0.0024 - acc: 0.0112 - val_loss: 0.0113 - val_acc: 0.0303 - 25ms/epoch - 8ms/step\n",
            "Epoch 31/100\n",
            "3/3 - 0s - loss: 0.0024 - acc: 0.0112 - val_loss: 0.0109 - val_acc: 0.0303 - 25ms/epoch - 8ms/step\n",
            "Epoch 32/100\n",
            "3/3 - 0s - loss: 0.0024 - acc: 0.0112 - val_loss: 0.0105 - val_acc: 0.0303 - 24ms/epoch - 8ms/step\n",
            "Epoch 33/100\n",
            "3/3 - 0s - loss: 0.0023 - acc: 0.0112 - val_loss: 0.0103 - val_acc: 0.0303 - 23ms/epoch - 8ms/step\n",
            "Epoch 34/100\n",
            "3/3 - 0s - loss: 0.0022 - acc: 0.0112 - val_loss: 0.0103 - val_acc: 0.0303 - 26ms/epoch - 9ms/step\n",
            "Epoch 35/100\n",
            "3/3 - 0s - loss: 0.0022 - acc: 0.0112 - val_loss: 0.0102 - val_acc: 0.0303 - 35ms/epoch - 12ms/step\n",
            "Epoch 36/100\n",
            "3/3 - 0s - loss: 0.0022 - acc: 0.0112 - val_loss: 0.0098 - val_acc: 0.0303 - 27ms/epoch - 9ms/step\n",
            "Epoch 37/100\n",
            "3/3 - 0s - loss: 0.0021 - acc: 0.0112 - val_loss: 0.0094 - val_acc: 0.0303 - 27ms/epoch - 9ms/step\n",
            "Epoch 38/100\n",
            "3/3 - 0s - loss: 0.0020 - acc: 0.0112 - val_loss: 0.0092 - val_acc: 0.0303 - 25ms/epoch - 8ms/step\n",
            "Epoch 39/100\n",
            "3/3 - 0s - loss: 0.0021 - acc: 0.0112 - val_loss: 0.0090 - val_acc: 0.0303 - 26ms/epoch - 9ms/step\n",
            "Epoch 40/100\n",
            "3/3 - 0s - loss: 0.0020 - acc: 0.0112 - val_loss: 0.0089 - val_acc: 0.0303 - 27ms/epoch - 9ms/step\n",
            "Epoch 41/100\n",
            "3/3 - 0s - loss: 0.0019 - acc: 0.0112 - val_loss: 0.0089 - val_acc: 0.0303 - 30ms/epoch - 10ms/step\n",
            "Epoch 42/100\n",
            "3/3 - 0s - loss: 0.0019 - acc: 0.0112 - val_loss: 0.0087 - val_acc: 0.0303 - 28ms/epoch - 9ms/step\n",
            "Epoch 43/100\n",
            "3/3 - 0s - loss: 0.0019 - acc: 0.0112 - val_loss: 0.0086 - val_acc: 0.0303 - 25ms/epoch - 8ms/step\n",
            "Epoch 44/100\n",
            "3/3 - 0s - loss: 0.0018 - acc: 0.0112 - val_loss: 0.0083 - val_acc: 0.0303 - 25ms/epoch - 8ms/step\n",
            "Epoch 45/100\n",
            "3/3 - 0s - loss: 0.0018 - acc: 0.0112 - val_loss: 0.0082 - val_acc: 0.0303 - 26ms/epoch - 9ms/step\n",
            "Epoch 46/100\n",
            "3/3 - 0s - loss: 0.0017 - acc: 0.0112 - val_loss: 0.0080 - val_acc: 0.0303 - 23ms/epoch - 8ms/step\n",
            "Epoch 47/100\n",
            "3/3 - 0s - loss: 0.0017 - acc: 0.0112 - val_loss: 0.0078 - val_acc: 0.0303 - 24ms/epoch - 8ms/step\n",
            "Epoch 48/100\n",
            "3/3 - 0s - loss: 0.0017 - acc: 0.0112 - val_loss: 0.0078 - val_acc: 0.0303 - 26ms/epoch - 9ms/step\n",
            "Epoch 49/100\n",
            "3/3 - 0s - loss: 0.0016 - acc: 0.0112 - val_loss: 0.0075 - val_acc: 0.0303 - 24ms/epoch - 8ms/step\n",
            "Epoch 50/100\n",
            "3/3 - 0s - loss: 0.0016 - acc: 0.0112 - val_loss: 0.0071 - val_acc: 0.0303 - 23ms/epoch - 8ms/step\n",
            "Epoch 51/100\n",
            "3/3 - 0s - loss: 0.0015 - acc: 0.0112 - val_loss: 0.0069 - val_acc: 0.0303 - 25ms/epoch - 8ms/step\n",
            "Epoch 52/100\n",
            "3/3 - 0s - loss: 0.0015 - acc: 0.0112 - val_loss: 0.0068 - val_acc: 0.0303 - 24ms/epoch - 8ms/step\n",
            "Epoch 53/100\n",
            "3/3 - 0s - loss: 0.0015 - acc: 0.0112 - val_loss: 0.0066 - val_acc: 0.0303 - 28ms/epoch - 9ms/step\n",
            "Epoch 54/100\n",
            "3/3 - 0s - loss: 0.0015 - acc: 0.0112 - val_loss: 0.0065 - val_acc: 0.0303 - 37ms/epoch - 12ms/step\n",
            "Epoch 55/100\n",
            "3/3 - 0s - loss: 0.0014 - acc: 0.0112 - val_loss: 0.0064 - val_acc: 0.0303 - 28ms/epoch - 9ms/step\n",
            "Epoch 56/100\n",
            "3/3 - 0s - loss: 0.0014 - acc: 0.0112 - val_loss: 0.0064 - val_acc: 0.0303 - 29ms/epoch - 10ms/step\n",
            "Epoch 57/100\n",
            "3/3 - 0s - loss: 0.0014 - acc: 0.0112 - val_loss: 0.0062 - val_acc: 0.0303 - 29ms/epoch - 10ms/step\n",
            "Epoch 58/100\n",
            "3/3 - 0s - loss: 0.0013 - acc: 0.0112 - val_loss: 0.0062 - val_acc: 0.0303 - 26ms/epoch - 9ms/step\n",
            "Epoch 59/100\n",
            "3/3 - 0s - loss: 0.0013 - acc: 0.0112 - val_loss: 0.0062 - val_acc: 0.0303 - 26ms/epoch - 9ms/step\n",
            "Epoch 60/100\n",
            "3/3 - 0s - loss: 0.0013 - acc: 0.0112 - val_loss: 0.0061 - val_acc: 0.0303 - 25ms/epoch - 8ms/step\n",
            "Epoch 61/100\n",
            "3/3 - 0s - loss: 0.0013 - acc: 0.0112 - val_loss: 0.0060 - val_acc: 0.0303 - 27ms/epoch - 9ms/step\n",
            "Epoch 62/100\n",
            "3/3 - 0s - loss: 0.0013 - acc: 0.0112 - val_loss: 0.0059 - val_acc: 0.0303 - 53ms/epoch - 18ms/step\n",
            "Epoch 63/100\n",
            "3/3 - 0s - loss: 0.0013 - acc: 0.0112 - val_loss: 0.0058 - val_acc: 0.0303 - 44ms/epoch - 15ms/step\n",
            "Epoch 64/100\n",
            "3/3 - 0s - loss: 0.0012 - acc: 0.0112 - val_loss: 0.0058 - val_acc: 0.0303 - 47ms/epoch - 16ms/step\n",
            "Epoch 65/100\n",
            "3/3 - 0s - loss: 0.0012 - acc: 0.0112 - val_loss: 0.0056 - val_acc: 0.0303 - 44ms/epoch - 15ms/step\n",
            "Epoch 66/100\n",
            "3/3 - 0s - loss: 0.0012 - acc: 0.0112 - val_loss: 0.0055 - val_acc: 0.0303 - 52ms/epoch - 17ms/step\n",
            "Epoch 67/100\n",
            "3/3 - 0s - loss: 0.0012 - acc: 0.0112 - val_loss: 0.0055 - val_acc: 0.0303 - 38ms/epoch - 13ms/step\n",
            "Epoch 68/100\n",
            "3/3 - 0s - loss: 0.0011 - acc: 0.0112 - val_loss: 0.0055 - val_acc: 0.0303 - 48ms/epoch - 16ms/step\n",
            "Epoch 69/100\n",
            "3/3 - 0s - loss: 0.0011 - acc: 0.0112 - val_loss: 0.0054 - val_acc: 0.0303 - 38ms/epoch - 13ms/step\n",
            "Epoch 70/100\n",
            "3/3 - 0s - loss: 0.0011 - acc: 0.0112 - val_loss: 0.0054 - val_acc: 0.0303 - 49ms/epoch - 16ms/step\n",
            "Epoch 71/100\n",
            "3/3 - 0s - loss: 0.0011 - acc: 0.0112 - val_loss: 0.0053 - val_acc: 0.0303 - 43ms/epoch - 14ms/step\n",
            "Epoch 72/100\n",
            "3/3 - 0s - loss: 0.0011 - acc: 0.0112 - val_loss: 0.0053 - val_acc: 0.0303 - 40ms/epoch - 13ms/step\n",
            "Epoch 73/100\n",
            "3/3 - 0s - loss: 0.0011 - acc: 0.0112 - val_loss: 0.0052 - val_acc: 0.0303 - 39ms/epoch - 13ms/step\n",
            "Epoch 74/100\n",
            "3/3 - 0s - loss: 0.0011 - acc: 0.0112 - val_loss: 0.0052 - val_acc: 0.0303 - 42ms/epoch - 14ms/step\n",
            "Epoch 75/100\n",
            "3/3 - 0s - loss: 0.0011 - acc: 0.0112 - val_loss: 0.0051 - val_acc: 0.0303 - 42ms/epoch - 14ms/step\n",
            "Epoch 76/100\n",
            "3/3 - 0s - loss: 0.0011 - acc: 0.0112 - val_loss: 0.0050 - val_acc: 0.0303 - 38ms/epoch - 13ms/step\n",
            "Epoch 77/100\n",
            "3/3 - 0s - loss: 0.0010 - acc: 0.0112 - val_loss: 0.0050 - val_acc: 0.0303 - 39ms/epoch - 13ms/step\n",
            "Epoch 78/100\n",
            "3/3 - 0s - loss: 0.0011 - acc: 0.0112 - val_loss: 0.0053 - val_acc: 0.0303 - 50ms/epoch - 17ms/step\n",
            "Epoch 79/100\n",
            "3/3 - 0s - loss: 0.0010 - acc: 0.0112 - val_loss: 0.0048 - val_acc: 0.0303 - 38ms/epoch - 13ms/step\n",
            "Epoch 80/100\n",
            "3/3 - 0s - loss: 0.0011 - acc: 0.0112 - val_loss: 0.0048 - val_acc: 0.0303 - 39ms/epoch - 13ms/step\n",
            "Epoch 81/100\n",
            "3/3 - 0s - loss: 0.0010 - acc: 0.0112 - val_loss: 0.0050 - val_acc: 0.0303 - 39ms/epoch - 13ms/step\n",
            "Epoch 82/100\n",
            "3/3 - 0s - loss: 0.0010 - acc: 0.0112 - val_loss: 0.0050 - val_acc: 0.0303 - 57ms/epoch - 19ms/step\n",
            "Epoch 83/100\n",
            "3/3 - 0s - loss: 9.8155e-04 - acc: 0.0112 - val_loss: 0.0047 - val_acc: 0.0303 - 38ms/epoch - 13ms/step\n",
            "Epoch 84/100\n",
            "3/3 - 0s - loss: 0.0010 - acc: 0.0112 - val_loss: 0.0046 - val_acc: 0.0303 - 40ms/epoch - 13ms/step\n",
            "Epoch 85/100\n",
            "3/3 - 0s - loss: 9.9121e-04 - acc: 0.0112 - val_loss: 0.0046 - val_acc: 0.0303 - 41ms/epoch - 14ms/step\n",
            "Epoch 86/100\n",
            "3/3 - 0s - loss: 0.0010 - acc: 0.0112 - val_loss: 0.0052 - val_acc: 0.0303 - 39ms/epoch - 13ms/step\n",
            "Epoch 87/100\n",
            "3/3 - 0s - loss: 9.9058e-04 - acc: 0.0112 - val_loss: 0.0046 - val_acc: 0.0303 - 44ms/epoch - 15ms/step\n",
            "Epoch 88/100\n",
            "3/3 - 0s - loss: 9.4664e-04 - acc: 0.0112 - val_loss: 0.0044 - val_acc: 0.0303 - 40ms/epoch - 13ms/step\n",
            "Epoch 89/100\n",
            "3/3 - 0s - loss: 9.5704e-04 - acc: 0.0112 - val_loss: 0.0045 - val_acc: 0.0303 - 41ms/epoch - 14ms/step\n",
            "Epoch 90/100\n",
            "3/3 - 0s - loss: 9.1304e-04 - acc: 0.0112 - val_loss: 0.0044 - val_acc: 0.0303 - 40ms/epoch - 13ms/step\n",
            "Epoch 91/100\n",
            "3/3 - 0s - loss: 9.1202e-04 - acc: 0.0112 - val_loss: 0.0044 - val_acc: 0.0303 - 43ms/epoch - 14ms/step\n",
            "Epoch 92/100\n",
            "3/3 - 0s - loss: 8.9960e-04 - acc: 0.0112 - val_loss: 0.0042 - val_acc: 0.0303 - 39ms/epoch - 13ms/step\n",
            "Epoch 93/100\n",
            "3/3 - 0s - loss: 8.9396e-04 - acc: 0.0112 - val_loss: 0.0042 - val_acc: 0.0303 - 39ms/epoch - 13ms/step\n",
            "Epoch 94/100\n",
            "3/3 - 0s - loss: 8.8564e-04 - acc: 0.0112 - val_loss: 0.0043 - val_acc: 0.0303 - 47ms/epoch - 16ms/step\n",
            "Epoch 95/100\n",
            "3/3 - 0s - loss: 8.7405e-04 - acc: 0.0112 - val_loss: 0.0043 - val_acc: 0.0303 - 39ms/epoch - 13ms/step\n",
            "Epoch 96/100\n",
            "3/3 - 0s - loss: 8.7243e-04 - acc: 0.0112 - val_loss: 0.0042 - val_acc: 0.0303 - 39ms/epoch - 13ms/step\n",
            "Epoch 97/100\n",
            "3/3 - 0s - loss: 8.6271e-04 - acc: 0.0112 - val_loss: 0.0041 - val_acc: 0.0303 - 36ms/epoch - 12ms/step\n",
            "Epoch 98/100\n",
            "3/3 - 0s - loss: 8.5485e-04 - acc: 0.0112 - val_loss: 0.0042 - val_acc: 0.0303 - 40ms/epoch - 13ms/step\n",
            "Epoch 99/100\n",
            "3/3 - 0s - loss: 8.4705e-04 - acc: 0.0112 - val_loss: 0.0041 - val_acc: 0.0303 - 40ms/epoch - 13ms/step\n",
            "Epoch 100/100\n",
            "3/3 - 0s - loss: 8.4215e-04 - acc: 0.0112 - val_loss: 0.0041 - val_acc: 0.0303 - 39ms/epoch - 13ms/step\n"
          ]
        },
        {
          "output_type": "execute_result",
          "data": {
            "text/plain": [
              "<keras.callbacks.History at 0x7f2a20c9a2d0>"
            ]
          },
          "metadata": {},
          "execution_count": 10
        }
      ]
    },
    {
      "cell_type": "code",
      "source": [
        "# make predictions\n",
        "\n",
        "trainPredict = model.predict(trainX)\n",
        "testPredict = model.predict(testX)\n"
      ],
      "metadata": {
        "id": "Q9VFWuxYd_Z_"
      },
      "execution_count": 11,
      "outputs": []
    },
    {
      "cell_type": "code",
      "source": [
        "# Estimate model performance\n",
        "#SInce we used minmaxscaler we can now use scaler.inverse_transform\n",
        "#to invert the transformation.\n",
        "\n",
        "trainPredict = scaler.inverse_transform(trainPredict)\n",
        "trainY_inverse = scaler.inverse_transform([trainY])\n",
        "testPredict = scaler.inverse_transform(testPredict)\n",
        "testY_inverse = scaler.inverse_transform([testY])\n"
      ],
      "metadata": {
        "id": "6IBYrzjbeHkK"
      },
      "execution_count": 12,
      "outputs": []
    },
    {
      "cell_type": "code",
      "source": [
        "# calculate root mean squared error\n",
        "trainScore = math.sqrt(mean_squared_error(trainY_inverse[0], trainPredict[:,0]))\n",
        "print('Train Score: %.2f RMSE' % (trainScore))\n",
        "\n",
        "testScore = math.sqrt(mean_squared_error(testY_inverse[0], testPredict[:,0]))\n",
        "print('Test Score: %.2f RMSE' % (testScore))"
      ],
      "metadata": {
        "colab": {
          "base_uri": "https://localhost:8080/"
        },
        "id": "ns6ur03JeKoa",
        "outputId": "05878844-9d7b-4989-dd0b-3dbac87d26ef"
      },
      "execution_count": 13,
      "outputs": [
        {
          "output_type": "stream",
          "name": "stdout",
          "text": [
            "Train Score: 14.95 RMSE\n",
            "Test Score: 33.04 RMSE\n"
          ]
        }
      ]
    },
    {
      "cell_type": "code",
      "source": [
        "# shift train predictions for plotting\n",
        "#we must shift the predictions so that they align on the x-axis with the original dataset. \n",
        "trainPredictPlot = np.empty_like(dataset)\n",
        "trainPredictPlot[:, :] = np.nan\n",
        "trainPredictPlot[seq_size:len(trainPredict)+seq_size, :] = trainPredict"
      ],
      "metadata": {
        "id": "sdRVWME7eNBX"
      },
      "execution_count": 14,
      "outputs": []
    },
    {
      "cell_type": "code",
      "source": [
        "trainPredict"
      ],
      "metadata": {
        "colab": {
          "base_uri": "https://localhost:8080/"
        },
        "id": "laBgejJ3ea2Z",
        "outputId": "58facc36-0b88-4118-90d7-5a924dd61d09"
      },
      "execution_count": 20,
      "outputs": [
        {
          "output_type": "execute_result",
          "data": {
            "text/plain": [
              "array([[115.562744],\n",
              "       [116.228676],\n",
              "       [127.52391 ],\n",
              "       [129.23796 ],\n",
              "       [126.22287 ],\n",
              "       [134.87688 ],\n",
              "       [143.58536 ],\n",
              "       [146.12634 ],\n",
              "       [153.59618 ],\n",
              "       [169.15387 ],\n",
              "       [158.10893 ],\n",
              "       [143.0151  ],\n",
              "       [123.441   ],\n",
              "       [128.3468  ],\n",
              "       [147.38382 ],\n",
              "       [154.38643 ],\n",
              "       [147.73074 ],\n",
              "       [160.36409 ],\n",
              "       [174.6741  ],\n",
              "       [190.97688 ],\n",
              "       [193.56136 ],\n",
              "       [185.59633 ],\n",
              "       [182.95816 ],\n",
              "       [171.01146 ],\n",
              "       [152.91669 ],\n",
              "       [154.3002  ],\n",
              "       [177.02492 ],\n",
              "       [182.52576 ],\n",
              "       [184.51988 ],\n",
              "       [184.01039 ],\n",
              "       [192.42046 ],\n",
              "       [204.65767 ],\n",
              "       [224.0186  ],\n",
              "       [227.46141 ],\n",
              "       [217.3491  ],\n",
              "       [193.21979 ],\n",
              "       [177.62383 ],\n",
              "       [185.09816 ],\n",
              "       [203.13922 ],\n",
              "       [203.04941 ],\n",
              "       [201.71863 ],\n",
              "       [221.44319 ],\n",
              "       [245.13802 ],\n",
              "       [260.39673 ],\n",
              "       [245.04103 ],\n",
              "       [247.76141 ],\n",
              "       [254.8422  ],\n",
              "       [227.48804 ],\n",
              "       [194.1889  ],\n",
              "       [195.95972 ],\n",
              "       [220.75891 ],\n",
              "       [230.43576 ],\n",
              "       [221.02489 ],\n",
              "       [231.35045 ],\n",
              "       [245.28157 ],\n",
              "       [266.95648 ],\n",
              "       [280.2024  ],\n",
              "       [290.8105  ],\n",
              "       [282.1644  ],\n",
              "       [238.97923 ],\n",
              "       [203.85988 ],\n",
              "       [208.84799 ],\n",
              "       [242.3522  ],\n",
              "       [246.80551 ],\n",
              "       [249.52046 ],\n",
              "       [261.51288 ],\n",
              "       [289.609   ],\n",
              "       [307.70578 ],\n",
              "       [323.61816 ],\n",
              "       [343.25912 ],\n",
              "       [321.7674  ],\n",
              "       [277.186   ],\n",
              "       [242.69377 ],\n",
              "       [246.8107  ],\n",
              "       [285.57053 ],\n",
              "       [289.02054 ],\n",
              "       [293.93314 ],\n",
              "       [312.32755 ],\n",
              "       [341.4675  ],\n",
              "       [359.99792 ],\n",
              "       [385.18463 ],\n",
              "       [391.8229  ],\n",
              "       [365.68527 ],\n",
              "       [321.2876  ],\n",
              "       [274.57962 ],\n",
              "       [285.09296 ],\n",
              "       [320.91992 ],\n",
              "       [329.1642  ],\n",
              "       [333.17078 ]], dtype=float32)"
            ]
          },
          "metadata": {},
          "execution_count": 20
        }
      ]
    },
    {
      "cell_type": "code",
      "source": [
        "# shift test predictions for plotting\n",
        "testPredictPlot = np.empty_like(dataset)\n",
        "testPredictPlot[:, :] = np.nan\n",
        "testPredictPlot[len(trainPredict)+(seq_size*2)+1:len(dataset)-1, :] = testPredict"
      ],
      "metadata": {
        "id": "NWsLX2cCeQEm"
      },
      "execution_count": 15,
      "outputs": []
    },
    {
      "cell_type": "code",
      "source": [
        "testPredict"
      ],
      "metadata": {
        "colab": {
          "base_uri": "https://localhost:8080/"
        },
        "id": "wSTa-zraefkr",
        "outputId": "12b59b6e-b872-4263-b80a-49540c0f8353"
      },
      "execution_count": 21,
      "outputs": [
        {
          "output_type": "execute_result",
          "data": {
            "text/plain": [
              "array([[364.49026],\n",
              "       [383.8199 ],\n",
              "       [405.85983],\n",
              "       [426.2862 ],\n",
              "       [458.4662 ],\n",
              "       [475.0201 ],\n",
              "       [471.24866],\n",
              "       [382.52374],\n",
              "       [318.68518],\n",
              "       [326.28833],\n",
              "       [366.28702],\n",
              "       [377.44772],\n",
              "       [381.87753],\n",
              "       [410.62555],\n",
              "       [457.70782],\n",
              "       [489.35077],\n",
              "       [495.5013 ],\n",
              "       [517.8913 ],\n",
              "       [516.05914],\n",
              "       [414.54922],\n",
              "       [348.39923],\n",
              "       [359.34467],\n",
              "       [425.9622 ],\n",
              "       [434.2791 ],\n",
              "       [432.93585],\n",
              "       [443.34573],\n",
              "       [501.21533],\n",
              "       [555.52045],\n",
              "       [551.1717 ],\n",
              "       [577.3344 ],\n",
              "       [555.59955],\n",
              "       [474.40576],\n",
              "       [402.95978]], dtype=float32)"
            ]
          },
          "metadata": {},
          "execution_count": 21
        }
      ]
    },
    {
      "cell_type": "code",
      "source": [
        "# plot baseline and predictions\n",
        "plt.plot(scaler.inverse_transform(dataset))\n",
        "plt.plot(trainPredictPlot)\n",
        "plt.plot(testPredictPlot)\n",
        "plt.show()"
      ],
      "metadata": {
        "colab": {
          "base_uri": "https://localhost:8080/",
          "height": 265
        },
        "id": "rz9YZDHVeShV",
        "outputId": "97c96342-b1a1-4a21-b5e0-c4110f765632"
      },
      "execution_count": 16,
      "outputs": [
        {
          "output_type": "display_data",
          "data": {
            "text/plain": [
              "<Figure size 432x288 with 1 Axes>"
            ],
            "image/png": "[encoded data removed]"
          },
          "metadata": {
            "needs_background": "light"
          }
        }
      ]
    }
  ]
}